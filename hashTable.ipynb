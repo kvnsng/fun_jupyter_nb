{
 "cells": [
  {
   "cell_type": "code",
   "execution_count": 1,
   "metadata": {
    "collapsed": true
   },
   "outputs": [],
   "source": [
    "class hashTable:\n",
    "    def __init__(self):\n",
    "        self.size = 13\n",
    "        self.slots == [None] * self.size\n",
    "        self.data == [None] * self.size\n",
    "        \n",
    "    def hashFunction(self, key, size):\n",
    "        return key%size\n",
    "    \n",
    "    def rehash(self, oldhash, size):\n",
    "        return (oldhash + 1)%size\n",
    "    \n",
    "    def put(self, key, data):\n",
    "        hash_val = hashFunction(key, len(self.data))\n",
    "        if self.slots[hash_val] == None:\n",
    "            self.slots[hash_val] = key\n",
    "            self.data[hash_val] = data\n",
    "        else:\n",
    "            "
   ]
  },
  {
   "cell_type": "code",
   "execution_count": null,
   "metadata": {
    "collapsed": true
   },
   "outputs": [],
   "source": []
  }
 ],
 "metadata": {
  "kernelspec": {
   "display_name": "Python 2",
   "language": "python",
   "name": "python2"
  },
  "language_info": {
   "codemirror_mode": {
    "name": "ipython",
    "version": 2
   },
   "file_extension": ".py",
   "mimetype": "text/x-python",
   "name": "python",
   "nbconvert_exporter": "python",
   "pygments_lexer": "ipython2",
   "version": "2.7.13"
  }
 },
 "nbformat": 4,
 "nbformat_minor": 2
}

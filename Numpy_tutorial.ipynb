{
 "metadata": {
  "name": "",
  "signature": "sha256:ff2be2b0ef09c543bb0ac3c8e556b33dd964a71b2ad73966a35a94dd85d0bcd0"
 },
 "nbformat": 3,
 "nbformat_minor": 0,
 "worksheets": [
  {
   "cells": [
    {
     "cell_type": "code",
     "collapsed": false,
     "input": [
      "class Point:\n",
      "    \"\"\"\n",
      "    Simple class for representing a point in a Cartesian coordinate system.\n",
      "    \"\"\"\n",
      "    \n",
      "    def __init__(self, x, y):\n",
      "        \"\"\"\n",
      "        Create a new Point at x, y.\n",
      "        \"\"\"\n",
      "        self.x = x\n",
      "        self.y = y\n",
      "        \n",
      "    def translate(self, dx, dy):\n",
      "        \"\"\"\n",
      "        Translate the point by dx and dy in the x and y direction.\n",
      "        \"\"\"\n",
      "        self.x += dx\n",
      "        self.y += dy\n",
      "        \n",
      "    def __str__(self):\n",
      "        return(\"Point at [%f, %f]\" % (self.x, self.y))\n"
     ],
     "language": "python",
     "metadata": {},
     "outputs": [],
     "prompt_number": 6
    },
    {
     "cell_type": "code",
     "collapsed": false,
     "input": [
      "a = Point(1,1)\n",
      "\n",
      "print a"
     ],
     "language": "python",
     "metadata": {},
     "outputs": [
      {
       "output_type": "stream",
       "stream": "stdout",
       "text": [
        "Point at [1.000000, 1.000000]\n"
       ]
      }
     ],
     "prompt_number": 17
    },
    {
     "cell_type": "code",
     "collapsed": false,
     "input": [
      "%%file mymodule.py\n",
      "\"\"\"\n",
      "Example of a python module. Contains a variable called my_variable,\n",
      "a function called my_function, and a class called MyClass.\n",
      "\"\"\"\n",
      "\n",
      "my_variable = 0\n",
      "\n",
      "def my_function():\n",
      "    \"\"\"\n",
      "    Example function\n",
      "    \"\"\"\n",
      "    return my_variable\n",
      "    \n",
      "class MyClass:\n",
      "    \"\"\"\n",
      "    Example class.\n",
      "    \"\"\"\n",
      "\n",
      "    def __init__(self):\n",
      "        self.variable = my_variable\n",
      "        \n",
      "    def set_variable(self, new_value):\n",
      "        \"\"\"\n",
      "        Set self.variable to a new value\n",
      "        \"\"\"\n",
      "        self.variable = new_value\n",
      "        \n",
      "    def get_variable(self):\n",
      "        return self.variable"
     ],
     "language": "python",
     "metadata": {},
     "outputs": [
      {
       "output_type": "stream",
       "stream": "stdout",
       "text": [
        "Writing mymodule.py\n"
       ]
      }
     ],
     "prompt_number": 18
    },
    {
     "cell_type": "code",
     "collapsed": false,
     "input": [
      "import numpy\n",
      "numpy.diag([1,2,3], k=-1) "
     ],
     "language": "python",
     "metadata": {},
     "outputs": [
      {
       "metadata": {},
       "output_type": "pyout",
       "prompt_number": 26,
       "text": [
        "array([[0, 0, 0, 0],\n",
        "       [1, 0, 0, 0],\n",
        "       [0, 2, 0, 0],\n",
        "       [0, 0, 3, 0]])"
       ]
      }
     ],
     "prompt_number": 26
    },
    {
     "cell_type": "code",
     "collapsed": false,
     "input": [
      "a = numpy.random.randn(5000,2)\n",
      "numpy.savetxt('junk.txt', a)"
     ],
     "language": "python",
     "metadata": {},
     "outputs": [],
     "prompt_number": 30
    },
    {
     "cell_type": "heading",
     "level": 5,
     "metadata": {},
     "source": [
      "%pylab inline\n",
      "\n",
      "list = numpy.genfromtxt('junk.txt')\n",
      "plot(list[:,1])"
     ]
    },
    {
     "cell_type": "code",
     "collapsed": false,
     "input": [
      "choices = [ [1,2,3,4,5] , [6,7,8,9,10] ]\n",
      "which = [1, 0, 1, 0, 1]\n",
      "\n",
      "numpy.choose(which,choices)"
     ],
     "language": "python",
     "metadata": {},
     "outputs": [
      {
       "metadata": {},
       "output_type": "pyout",
       "prompt_number": 44,
       "text": [
        "array([ 6,  2,  8,  4, 10])"
       ]
      }
     ],
     "prompt_number": 44
    },
    {
     "cell_type": "code",
     "collapsed": false,
     "input": [
      "x = 1.5\n",
      "\n",
      "(x < 1) * 5"
     ],
     "language": "python",
     "metadata": {},
     "outputs": [
      {
       "metadata": {},
       "output_type": "pyout",
       "prompt_number": 47,
       "text": [
        "0"
       ]
      }
     ],
     "prompt_number": 47
    }
   ],
   "metadata": {}
  }
 ]
}